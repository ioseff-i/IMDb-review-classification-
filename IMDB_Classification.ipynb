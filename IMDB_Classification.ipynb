{
  "nbformat": 4,
  "nbformat_minor": 0,
  "metadata": {
    "accelerator": "GPU",
    "colab": {
      "name": "IMDB-Classification.ipynb",
      "provenance": [],
      "collapsed_sections": []
    },
    "kernelspec": {
      "display_name": "Python 3",
      "name": "python3"
    }
  },
  "cells": [
    {
      "cell_type": "code",
      "metadata": {
        "id": "zk0IlkxZVfrl"
      },
      "source": [
        "import numpy as np\r\n",
        "import matplotlib.pyplot as plt\r\n",
        "import tensorflow as tf\r\n",
        "import pandas as pd\r\n",
        "import tensorflow_datasets as tfds\r\n",
        "from tensorflow.keras.preprocessing.text import Tokenizer\r\n",
        "from tensorflow.keras.preprocessing.sequence import pad_sequences"
      ],
      "execution_count": null,
      "outputs": []
    },
    {
      "cell_type": "markdown",
      "metadata": {
        "id": "UUHwjbnbgSFr"
      },
      "source": [
        "# Downloading the dataset"
      ]
    },
    {
      "cell_type": "code",
      "metadata": {
        "id": "m2svURkLVlO0"
      },
      "source": [
        "dataset = pd.read_csv('https://drive.google.com/uc?id=1AH4BiPGozkLhalMQdgqAfp0edCHi_pU1')\r\n",
        "X = dataset.iloc[:,:-1].values\r\n",
        "y = dataset.iloc[:,-1].values\r\n",
        "\r\n",
        "for i in X:\r\n",
        "  if '<br /><br />' in i[0]:\r\n",
        "    i[0].replace('<br /><br />',' ')"
      ],
      "execution_count": null,
      "outputs": []
    },
    {
      "cell_type": "code",
      "metadata": {
        "id": "yUbNoD-GVoq8"
      },
      "source": [
        "from sklearn.model_selection import train_test_split\r\n",
        "train_sent,test_sent,train_labels,test_labels = train_test_split(X,y,test_size=0.2)"
      ],
      "execution_count": null,
      "outputs": []
    },
    {
      "cell_type": "code",
      "metadata": {
        "id": "jQ94kNRAVrdk"
      },
      "source": [
        "for i in range(len(train_labels)):\r\n",
        "  if train_labels[i] == 'positive':\r\n",
        "    train_labels[i] = 1\r\n",
        "  else:\r\n",
        "    train_labels[i] = 0\r\n",
        "for i in range(len(test_labels)):\r\n",
        "  if test_labels[i] == 'positive':\r\n",
        "    test_labels[i] = 1\r\n",
        "  else:\r\n",
        "    test_labels[i] = 0"
      ],
      "execution_count": null,
      "outputs": []
    },
    {
      "cell_type": "markdown",
      "metadata": {
        "id": "lgCzINylgV-E"
      },
      "source": [
        "## Train-Test splitting, dividing into the features and labels"
      ]
    },
    {
      "cell_type": "code",
      "metadata": {
        "id": "RymDE6QQVtRU"
      },
      "source": [
        "train_labels_final = train_labels\r\n",
        "test_labels_final = test_labels"
      ],
      "execution_count": null,
      "outputs": []
    },
    {
      "cell_type": "code",
      "metadata": {
        "id": "8xbKUoV7VvbZ"
      },
      "source": [
        "train_sentences = []\r\n",
        "for i in train_sent:\r\n",
        "  train_sentences.append(i[0])\r\n",
        "test_sentences = []\r\n",
        "for i in test_sent:\r\n",
        "  test_sentences.append(i[0])"
      ],
      "execution_count": null,
      "outputs": []
    },
    {
      "cell_type": "markdown",
      "metadata": {
        "id": "c9_J5xibgZiV"
      },
      "source": [
        "# Preparing the data set -> Tokenization"
      ]
    },
    {
      "cell_type": "code",
      "metadata": {
        "id": "AcAMBUE7VyEX"
      },
      "source": [
        "vocab_size = 20000\r\n",
        "word_embedding_dim = 200\r\n",
        "char_embedding_dim = 200\r\n",
        "max_length = 150\r\n",
        "trunc_type = 'post'\r\n",
        "oov_tok = '<OOV>'"
      ],
      "execution_count": null,
      "outputs": []
    },
    {
      "cell_type": "code",
      "metadata": {
        "id": "ES5BNkzDV0F3"
      },
      "source": [
        "tokenizer = Tokenizer(num_words = vocab_size,oov_token=oov_tok)\r\n",
        "tokenizer.fit_on_texts(train_sentences)\r\n",
        "word_index = tokenizer.word_index"
      ],
      "execution_count": null,
      "outputs": []
    },
    {
      "cell_type": "code",
      "metadata": {
        "id": "mj1BKahhV19a"
      },
      "source": [
        "# Creating the sentence matrices\r\n",
        "sequences = tokenizer.texts_to_sequences(train_sentences)\r\n",
        "padded = pad_sequences(sequences,maxlen = max_length,truncating = trunc_type,padding='post')\r\n",
        "####################\r\n",
        "test_sequences = tokenizer.texts_to_sequences(test_sentences)\r\n",
        "test_padded = pad_sequences(test_sequences,maxlen = max_length,truncating = trunc_type,padding='post')"
      ],
      "execution_count": null,
      "outputs": []
    },
    {
      "cell_type": "code",
      "metadata": {
        "id": "Vk1fnGNFV4KD"
      },
      "source": [
        "# Creating the character based lists\r\n",
        "char_trains = [] \r\n",
        "char_tests = []\r\n",
        "for s in train_sentences:\r\n",
        "  char_train = list(str(np.array(s)))\r\n",
        "  char_trains.append(char_train)\r\n",
        "for s in test_sentences:\r\n",
        "  char_test = list(str(np.array(s)))\r\n",
        "  char_tests.append(char_test)"
      ],
      "execution_count": null,
      "outputs": []
    },
    {
      "cell_type": "code",
      "metadata": {
        "id": "mVyLNByZV8GL"
      },
      "source": [
        "new_tokenizer = Tokenizer(num_words = 200,oov_token=oov_tok)\r\n",
        "new_tokenizer.fit_on_texts(char_trains)\r\n",
        "new_word_index = new_tokenizer.word_index"
      ],
      "execution_count": null,
      "outputs": []
    },
    {
      "cell_type": "code",
      "metadata": {
        "id": "_8tdZnRpV-CJ"
      },
      "source": [
        "# Creating the sentence matrices\r\n",
        "new_sequences = new_tokenizer.texts_to_sequences(char_trains)\r\n",
        "new_padded = pad_sequences(new_sequences,maxlen = max_length,truncating = trunc_type,padding='post')\r\n",
        "####################\r\n",
        "new_test_sequences = tokenizer.texts_to_sequences(char_tests)\r\n",
        "new_test_padded = pad_sequences(new_test_sequences,maxlen = max_length,truncating = trunc_type,padding='post')"
      ],
      "execution_count": null,
      "outputs": []
    },
    {
      "cell_type": "markdown",
      "metadata": {
        "id": "DTx7G-L0ggFw"
      },
      "source": [
        "# Network Architecture\r\n",
        "We have the following network architecture to classify the IMDB reviews"
      ]
    },
    {
      "cell_type": "markdown",
      "metadata": {
        "id": "JiS6gNqFgg7Y"
      },
      "source": [
        "<img src='https://drive.google.com/uc?id=1_Kouy94AfmLmLUg2Cbw1CN0fbfcO5KzZ'>"
      ]
    },
    {
      "cell_type": "code",
      "metadata": {
        "id": "jvrOZdUcV_4d"
      },
      "source": [
        "from keras.utils import plot_model\r\n",
        "from keras.models import Model\r\n",
        "from keras.layers import Input\r\n",
        "from keras.layers import Dense\r\n",
        "from keras.layers import Embedding\r\n",
        "from keras.layers import Bidirectional\r\n",
        "from keras.layers import LSTM\r\n",
        "from keras.layers import Flatten\r\n",
        "from keras.layers.merge import concatenate\r\n",
        "\r\n",
        "inp1 = Input(shape=(max_length,))\r\n",
        "emb = Embedding(vocab_size+1, word_embedding_dim, input_length=max_length)(inp1)\r\n",
        "f1 = Flatten()(emb)\r\n",
        "\r\n",
        "\r\n",
        "inp2 = Input(shape=(max_length,))\r\n",
        "emb2 = Embedding(vocab_size+1, char_embedding_dim, input_length=max_length)(inp2)\r\n",
        "lstm = Bidirectional(LSTM(50))(emb2)\r\n",
        "f2 = Flatten()(lstm)\r\n",
        "\r\n",
        "\r\n",
        "merge = concatenate([f1, f2])\r\n",
        "hidden1 = Dense(10, activation='relu')(merge)\r\n",
        "output = Dense(1, activation='sigmoid')(hidden1)\r\n",
        "model = Model(inputs=[inp1, inp2], outputs=output)"
      ],
      "execution_count": null,
      "outputs": []
    },
    {
      "cell_type": "code",
      "metadata": {
        "colab": {
          "base_uri": "https://localhost:8080/",
          "height": 1000
        },
        "id": "vT_XLy1mWm7g",
        "outputId": "375fba74-04ed-47cb-cc74-da5dabc2a43a"
      },
      "source": [
        "print(model.summary())\r\n",
        "# plot graph\r\n",
        "plot_model(model, to_file='IMDB_REVIEW_RNN_graph.png')"
      ],
      "execution_count": null,
      "outputs": [
        {
          "output_type": "stream",
          "text": [
            "Model: \"model\"\n",
            "__________________________________________________________________________________________________\n",
            "Layer (type)                    Output Shape         Param #     Connected to                     \n",
            "==================================================================================================\n",
            "input_2 (InputLayer)            [(None, 150)]        0                                            \n",
            "__________________________________________________________________________________________________\n",
            "input_1 (InputLayer)            [(None, 150)]        0                                            \n",
            "__________________________________________________________________________________________________\n",
            "embedding_1 (Embedding)         (None, 150, 200)     4000200     input_2[0][0]                    \n",
            "__________________________________________________________________________________________________\n",
            "embedding (Embedding)           (None, 150, 200)     4000200     input_1[0][0]                    \n",
            "__________________________________________________________________________________________________\n",
            "bidirectional (Bidirectional)   (None, 100)          100400      embedding_1[0][0]                \n",
            "__________________________________________________________________________________________________\n",
            "flatten (Flatten)               (None, 30000)        0           embedding[0][0]                  \n",
            "__________________________________________________________________________________________________\n",
            "flatten_1 (Flatten)             (None, 100)          0           bidirectional[0][0]              \n",
            "__________________________________________________________________________________________________\n",
            "concatenate (Concatenate)       (None, 30100)        0           flatten[0][0]                    \n",
            "                                                                 flatten_1[0][0]                  \n",
            "__________________________________________________________________________________________________\n",
            "dense (Dense)                   (None, 10)           301010      concatenate[0][0]                \n",
            "__________________________________________________________________________________________________\n",
            "dense_1 (Dense)                 (None, 1)            11          dense[0][0]                      \n",
            "==================================================================================================\n",
            "Total params: 8,401,821\n",
            "Trainable params: 8,401,821\n",
            "Non-trainable params: 0\n",
            "__________________________________________________________________________________________________\n",
            "None\n"
          ],
          "name": "stdout"
        },
        {
          "output_type": "execute_result",
          "data": {
            "image/png": "[encoded data removed]",
            "text/plain": [
              "<IPython.core.display.Image object>"
            ]
          },
          "metadata": {
            "tags": []
          },
          "execution_count": 14
        }
      ]
    },
    {
      "cell_type": "code",
      "metadata": {
        "colab": {
          "background_save": true,
          "base_uri": "https://localhost:8080/"
        },
        "id": "2-ReRKUmWrLA",
        "outputId": "c49805b6-045d-426d-b7f8-5fea52177427"
      },
      "source": [
        "model.compile(optimizer='adam',loss='binary_crossentropy',metrics=['accuracy','AUC'])\r\n",
        "history = model.fit([np.asarray(padded).astype(np.float32),np.asarray(new_padded).astype(np.float32)], np.asarray(train_labels_final).astype(np.float32).reshape(40000,1),batch_size=256, epochs=10, validation_data=([np.asarray(test_padded).astype(np.float32),np.asarray(new_test_padded).astype(np.float32)], np.asarray(test_labels_final).astype(np.float32)))"
      ],
      "execution_count": null,
      "outputs": [
        {
          "output_type": "stream",
          "text": [
            "Epoch 1/30\n",
            "157/157 [==============================] - 131s 805ms/step - loss: 0.5726 - accuracy: 0.6680 - auc: 0.7344 - val_loss: 0.3589 - val_accuracy: 0.8563 - val_auc: 0.9308\n",
            "Epoch 2/30\n",
            "157/157 [==============================] - 126s 801ms/step - loss: 0.2408 - accuracy: 0.9084 - auc: 0.9636 - val_loss: 0.3329 - val_accuracy: 0.8582 - val_auc: 0.9401\n",
            "Epoch 3/30\n",
            "157/157 [==============================] - 126s 804ms/step - loss: 0.1684 - accuracy: 0.9393 - auc: 0.9817 - val_loss: 0.3559 - val_accuracy: 0.8534 - val_auc: 0.9307\n",
            "Epoch 4/30\n",
            "157/157 [==============================] - 124s 793ms/step - loss: 0.1214 - accuracy: 0.9594 - auc: 0.9901 - val_loss: 0.4486 - val_accuracy: 0.8444 - val_auc: 0.9238\n",
            "Epoch 5/30\n",
            "157/157 [==============================] - 125s 797ms/step - loss: 0.0977 - accuracy: 0.9677 - auc: 0.9934 - val_loss: 0.5139 - val_accuracy: 0.8519 - val_auc: 0.9171\n",
            "Epoch 6/30\n",
            "157/157 [==============================] - 128s 813ms/step - loss: 0.0603 - accuracy: 0.9813 - auc: 0.9971 - val_loss: 0.5279 - val_accuracy: 0.8463 - val_auc: 0.9132\n",
            "Epoch 7/30\n",
            "157/157 [==============================] - 126s 802ms/step - loss: 0.0498 - accuracy: 0.9855 - auc: 0.9977 - val_loss: 0.5951 - val_accuracy: 0.8431 - val_auc: 0.9087\n",
            "Epoch 8/30\n",
            "157/157 [==============================] - 126s 801ms/step - loss: 0.0311 - accuracy: 0.9905 - auc: 0.9991 - val_loss: 0.6815 - val_accuracy: 0.8480 - val_auc: 0.9041\n",
            "Epoch 9/30\n",
            "157/157 [==============================] - 126s 803ms/step - loss: 0.0312 - accuracy: 0.9904 - auc: 0.9990 - val_loss: 0.7130 - val_accuracy: 0.8461 - val_auc: 0.9041\n",
            "Epoch 10/30\n",
            "157/157 [==============================] - 125s 796ms/step - loss: 0.0217 - accuracy: 0.9942 - auc: 0.9994 - val_loss: 0.6901 - val_accuracy: 0.8428 - val_auc: 0.9036\n",
            "Epoch 11/30\n",
            "157/157 [==============================] - 125s 796ms/step - loss: 0.0151 - accuracy: 0.9963 - auc: 0.9996 - val_loss: 0.7986 - val_accuracy: 0.8398 - val_auc: 0.8975\n",
            "Epoch 12/30\n",
            "157/157 [==============================] - 125s 799ms/step - loss: 0.0141 - accuracy: 0.9966 - auc: 0.9996 - val_loss: 0.8468 - val_accuracy: 0.8397 - val_auc: 0.8964\n",
            "Epoch 13/30\n",
            "157/157 [==============================] - 125s 794ms/step - loss: 0.0094 - accuracy: 0.9980 - auc: 0.9998 - val_loss: 0.8880 - val_accuracy: 0.8418 - val_auc: 0.8940\n",
            "Epoch 14/30\n",
            "157/157 [==============================] - 125s 798ms/step - loss: 0.0111 - accuracy: 0.9971 - auc: 0.9997 - val_loss: 0.8237 - val_accuracy: 0.8375 - val_auc: 0.8970\n",
            "Epoch 15/30\n",
            "157/157 [==============================] - 125s 799ms/step - loss: 0.0121 - accuracy: 0.9975 - auc: 0.9996 - val_loss: 0.9459 - val_accuracy: 0.8417 - val_auc: 0.8925\n",
            "Epoch 16/30\n",
            "157/157 [==============================] - 126s 802ms/step - loss: 0.0106 - accuracy: 0.9976 - auc: 0.9997 - val_loss: 0.9419 - val_accuracy: 0.8411 - val_auc: 0.8907\n",
            "Epoch 17/30\n",
            "157/157 [==============================] - 125s 797ms/step - loss: 0.0107 - accuracy: 0.9969 - auc: 0.9998 - val_loss: 0.9601 - val_accuracy: 0.8450 - val_auc: 0.8926\n",
            "Epoch 18/30\n",
            "157/157 [==============================] - 124s 793ms/step - loss: 0.0089 - accuracy: 0.9980 - auc: 0.9998 - val_loss: 0.8819 - val_accuracy: 0.8440 - val_auc: 0.8967\n",
            "Epoch 19/30\n",
            "157/157 [==============================] - 125s 797ms/step - loss: 0.0154 - accuracy: 0.9963 - auc: 0.9994 - val_loss: 1.0451 - val_accuracy: 0.8406 - val_auc: 0.8880\n",
            "Epoch 20/30\n",
            "157/157 [==============================] - 126s 801ms/step - loss: 0.0043 - accuracy: 0.9993 - auc: 0.9998 - val_loss: 1.0942 - val_accuracy: 0.8423 - val_auc: 0.8878\n",
            "Epoch 21/30\n",
            "157/157 [==============================] - 125s 797ms/step - loss: 0.0019 - accuracy: 0.9997 - auc: 0.9999 - val_loss: 1.0757 - val_accuracy: 0.8393 - val_auc: 0.8869\n",
            "Epoch 22/30\n",
            "157/157 [==============================] - 125s 796ms/step - loss: 0.0017 - accuracy: 0.9998 - auc: 0.9999 - val_loss: 1.0525 - val_accuracy: 0.8410 - val_auc: 0.8888\n",
            "Epoch 23/30\n",
            "157/157 [==============================] - 125s 799ms/step - loss: 0.0021 - accuracy: 0.9999 - auc: 0.9999 - val_loss: 1.2074 - val_accuracy: 0.8432 - val_auc: 0.8824\n",
            "Epoch 24/30\n",
            "157/157 [==============================] - 125s 799ms/step - loss: 7.4930e-04 - accuracy: 0.9999 - auc: 0.9999 - val_loss: 1.1962 - val_accuracy: 0.8426 - val_auc: 0.8823\n",
            "Epoch 25/30\n",
            "157/157 [==============================] - 125s 798ms/step - loss: 5.7242e-04 - accuracy: 0.9999 - auc: 1.0000 - val_loss: 1.2258 - val_accuracy: 0.8430 - val_auc: 0.8810\n",
            "Epoch 26/30\n",
            "157/157 [==============================] - 127s 809ms/step - loss: 0.0031 - accuracy: 0.9994 - auc: 0.9999 - val_loss: 1.0336 - val_accuracy: 0.8438 - val_auc: 0.8876\n",
            "Epoch 27/30\n",
            "157/157 [==============================] - 128s 815ms/step - loss: 0.0100 - accuracy: 0.9974 - auc: 0.9997 - val_loss: 0.8556 - val_accuracy: 0.8426 - val_auc: 0.8957\n",
            "Epoch 28/30\n",
            "157/157 [==============================] - 128s 816ms/step - loss: 0.0148 - accuracy: 0.9954 - auc: 0.9995 - val_loss: 0.8345 - val_accuracy: 0.8369 - val_auc: 0.8964\n",
            "Epoch 29/30\n",
            "157/157 [==============================] - 127s 809ms/step - loss: 0.0160 - accuracy: 0.9948 - auc: 0.9996 - val_loss: 0.9479 - val_accuracy: 0.8415 - val_auc: 0.8928\n",
            "Epoch 30/30\n",
            "157/157 [==============================] - 127s 808ms/step - loss: 0.0029 - accuracy: 0.9996 - auc: 0.9999 - val_loss: 1.0348 - val_accuracy: 0.8408 - val_auc: 0.8911\n"
          ],
          "name": "stdout"
        }
      ]
    },
    {
      "cell_type": "code",
      "metadata": {
        "colab": {
          "base_uri": "https://localhost:8080/",
          "height": 885
        },
        "id": "MKpfDP8BZb4k",
        "outputId": "a3fac0ba-6083-483e-809a-a2f8eb90a302"
      },
      "source": [
        "import matplotlib.image  as mpimg\r\n",
        "import matplotlib.pyplot as plt\r\n",
        "\r\n",
        "#-----------------------------------------------------------\r\n",
        "# Retrieve a list of list results on training and test data\r\n",
        "# sets for each training epoch\r\n",
        "#-----------------------------------------------------------\r\n",
        "acc=history.history['accuracy']\r\n",
        "val_acc=history.history['val_accuracy']\r\n",
        "loss=history.history['loss']\r\n",
        "val_loss=history.history['val_loss']\r\n",
        "\r\n",
        "auc=history.history['auc']\r\n",
        "val_auc=history.history['val_auc']\r\n",
        "epochs=range(len(acc)) # Get number of epochs\r\n",
        "\r\n",
        "#------------------------------------------------\r\n",
        "# Plot training and validation accuracy per epoch\r\n",
        "#------------------------------------------------\r\n",
        "plt.plot(epochs, acc, 'r')\r\n",
        "plt.plot(epochs, val_acc, 'b')\r\n",
        "plt.title('Training and validation accuracy')\r\n",
        "plt.xlabel(\"Epochs\")\r\n",
        "plt.ylabel(\"Accuracy\")\r\n",
        "plt.legend([\"Accuracy\", \"Validation Accuracy\"])\r\n",
        "\r\n",
        "plt.figure()\r\n",
        "\r\n",
        "#------------------------------------------------\r\n",
        "# Plot training and validation loss per epoch\r\n",
        "#------------------------------------------------\r\n",
        "plt.plot(epochs, loss, 'r')\r\n",
        "plt.plot(epochs, val_loss, 'b')\r\n",
        "plt.title('Training and validation loss')\r\n",
        "plt.xlabel(\"Epochs\")\r\n",
        "plt.ylabel(\"Loss\")\r\n",
        "plt.legend([\"Loss\", \"Validation Loss\"])\r\n",
        "\r\n",
        "plt.figure()\r\n",
        "\r\n",
        "#------------------------------------------------\r\n",
        "# Plot training and validation auc per epoch\r\n",
        "#------------------------------------------------\r\n",
        "plt.plot(epochs, auc, 'r')\r\n",
        "plt.plot(epochs, val_auc, 'b')\r\n",
        "plt.title('Training and validation AUC')\r\n",
        "plt.xlabel(\"Epochs\")\r\n",
        "plt.ylabel(\"AUC\")\r\n",
        "plt.legend([\"AUC\", \"Validation AUC\"])\r\n",
        "\r\n",
        "plt.figure()"
      ],
      "execution_count": null,
      "outputs": [
        {
          "output_type": "execute_result",
          "data": {
            "text/plain": [
              "<Figure size 432x288 with 0 Axes>"
            ]
          },
          "metadata": {
            "tags": []
          },
          "execution_count": 16
        },
        {
          "output_type": "display_data",
          "data": {
            "image/png": "[encoded data removed]",
            "text/plain": [
              "<Figure size 432x288 with 1 Axes>"
            ]
          },
          "metadata": {
            "tags": []
          }
        },
        {
          "output_type": "display_data",
          "data": {
            "image/png": "[encoded data removed]",
            "text/plain": [
              "<Figure size 432x288 with 1 Axes>"
            ]
          },
          "metadata": {
            "tags": []
          }
        },
        {
          "output_type": "display_data",
          "data": {
            "image/png": "[encoded data removed]",
            "text/plain": [
              "<Figure size 432x288 with 1 Axes>"
            ]
          },
          "metadata": {
            "tags": []
          }
        },
        {
          "output_type": "display_data",
          "data": {
            "text/plain": [
              "<Figure size 432x288 with 0 Axes>"
            ]
          },
          "metadata": {
            "tags": []
          }
        }
      ]
    },
    {
      "cell_type": "markdown",
      "metadata": {
        "id": "wn0myRHRgsRK"
      },
      "source": [
        "# Simple Test Phase"
      ]
    },
    {
      "cell_type": "code",
      "metadata": {
        "colab": {
          "base_uri": "https://localhost:8080/"
        },
        "id": "2DKtw5eQgmqZ",
        "outputId": "7290735b-ef68-4a49-830e-5e8c348a730d"
      },
      "source": [
        "sentence = \"I really think this is amazing. honest.\"\r\n",
        "word_sequence = tokenizer.texts_to_sequences([sentence])\r\n",
        "print(word_sequence)"
      ],
      "execution_count": null,
      "outputs": [
        {
          "output_type": "stream",
          "text": [
            "[[11, 63, 103, 12, 7, 484, 1160]]\n"
          ],
          "name": "stdout"
        }
      ]
    },
    {
      "cell_type": "code",
      "metadata": {
        "colab": {
          "base_uri": "https://localhost:8080/"
        },
        "id": "hmhGSeWyguXt",
        "outputId": "4db039dc-6dd0-489e-ce01-3845b997eab7"
      },
      "source": [
        "char_sequence = new_tokenizer.texts_to_sequences([list(sentence)])\r\n",
        "print(char_sequence)"
      ],
      "execution_count": null,
      "outputs": [
        {
          "output_type": "stream",
          "text": [
            "[[6, 2, 10, 3, 5, 12, 12, 19, 2, 4, 11, 6, 9, 26, 2, 4, 11, 6, 8, 2, 6, 8, 2, 5, 15, 5, 38, 6, 9, 18, 23, 2, 11, 7, 9, 3, 8, 4, 23]]\n"
          ],
          "name": "stdout"
        }
      ]
    },
    {
      "cell_type": "code",
      "metadata": {
        "id": "9mZpPBRmgwVe"
      },
      "source": [
        "pad1= pad_sequences(word_sequence,maxlen = max_length,truncating = trunc_type,padding='post')\r\n",
        "pad2= pad_sequences(char_sequence,maxlen = max_length,truncating = trunc_type,padding='post')"
      ],
      "execution_count": null,
      "outputs": []
    },
    {
      "cell_type": "code",
      "metadata": {
        "colab": {
          "base_uri": "https://localhost:8080/"
        },
        "id": "IYqAW1SfgyQR",
        "outputId": "dfeb43bd-b20a-4733-e294-fc0ba43b239a"
      },
      "source": [
        "model.predict([pad1,pad2])\r\n",
        "# The answer is 0.9971558, which means 1 (>0.5)\r\n",
        "# From the sentence, we can easily say that it's apositive review"
      ],
      "execution_count": null,
      "outputs": [
        {
          "output_type": "execute_result",
          "data": {
            "text/plain": [
              "array([[0.9922799]], dtype=float32)"
            ]
          },
          "metadata": {
            "tags": []
          },
          "execution_count": 20
        }
      ]
    },
    {
      "cell_type": "markdown",
      "metadata": {
        "id": "tfRjx2Y2g4fF"
      },
      "source": [
        "# Conclusion\r\n",
        "If we look to the fitting and plotting part, we will see that we have an <b>OVERFITTING</b> <br>\r\n",
        "Maybe we can avoit it by playing the number of epochs, learning rate, number of layers, Using GridSearchCV and etc."
      ]
    }
  ]
}